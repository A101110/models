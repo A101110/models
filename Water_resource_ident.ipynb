{
 "cells": [
  {
   "cell_type": "code",
   "execution_count": 12,
   "metadata": {},
   "outputs": [
    {
     "data": {
      "image/png": "[encoded data removed]",
      "text/plain": [
       "<Figure size 432x288 with 1 Axes>"
      ]
     },
     "metadata": {
      "needs_background": "light"
     },
     "output_type": "display_data"
    }
   ],
   "source": [
    "import openpyxl\n",
    "import numpy as np\n",
    "import matplotlib.pyplot as plt\n",
    "from sklearn.linear_model import LinearRegression\n",
    "import random\n",
    "import time\n",
    "workflow(0,0,0,0)\n"
   ]
  },
  {
   "cell_type": "code",
   "execution_count": 11,
   "metadata": {},
   "outputs": [],
   "source": [
    "def workflow(D, H, h, l):\n",
    "    \n",
    "    wb = openpyxl.load_workbook(r\"C:\\Users\\User\\Desktop\\Книга1.xlsx\")\n",
    "    sheet = wb['Лист3']\n",
    "    \n",
    "    flow = []\n",
    "    pressure = []\n",
    "    \n",
    "    i = 0\n",
    "    for i in range (1, 700):\n",
    "        flow.append(sheet.cell(row = i, column = 5).value)\n",
    "        pressure.append(sheet.cell(row = i, column = 1).value)\n",
    "    #plt.plot(flow)\n",
    "    #plt.show()\n",
    "    \n",
    "    t_pr = 20\n",
    "    Ro = 7.800\n",
    "    R = D/2\n",
    "    \n",
    "    a = 0.0025\n",
    "    c = 0.05\n",
    "    d = 0.04\n",
    "    \n",
    "    sig_n = pressure[0]*(D+h)/(2*1.25*h)\n",
    "    \n",
    "    sig_netto = sig_n*h/(h-a)\n",
    "    \n",
    "    alpha_sig = 1+3.57*(a/d)*((1.12-0.9*(a/c))/(1-(a/s)*(1-1.5*(a/c))))\n",
    "    \n",
    "    sig_max = sig_netto*alpha_sig\n",
    "    \n",
    "    h_otb = 0.5*h\n",
    "    \n",
    "    \n",
    "    "
   ]
  },
  {
   "cell_type": "code",
   "execution_count": null,
   "metadata": {},
   "outputs": [],
   "source": []
  }
 ],
 "metadata": {
  "kernelspec": {
   "display_name": "Python 3",
   "language": "python",
   "name": "python3"
  },
  "language_info": {
   "codemirror_mode": {
    "name": "ipython",
    "version": 3
   },
   "file_extension": ".py",
   "mimetype": "text/x-python",
   "name": "python",
   "nbconvert_exporter": "python",
   "pygments_lexer": "ipython3",
   "version": "3.7.2"
  }
 },
 "nbformat": 4,
 "nbformat_minor": 2
}
