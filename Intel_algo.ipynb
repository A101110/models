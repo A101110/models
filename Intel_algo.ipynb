{
 "cells": [
  {
   "cell_type": "code",
   "execution_count": 10,
   "metadata": {},
   "outputs": [],
   "source": [
    "import openpyxl\n",
    "import numpy as np\n",
    "import itertools\n",
    "import pandas as pd\n",
    "import matplotlib.pyplot as plt\n",
    "from sklearn.linear_model import LinearRegression\n",
    "from statsmodels.tsa.statespace.sarimax import SARIMAX\n",
    "from sklearn import svm\n",
    "import datetime\n",
    "import pylab\n",
    "\n",
    "import statsmodels.api as sm\n",
    "\n",
    "from statsmodels.tsa.stattools import adfuller\n",
    "#from statsmodels.tsa.arima.model import ARIMA\n",
    "from statsmodels.tsa.stattools import acf, pacf\n",
    "from statsmodels.graphics.tsaplots import plot_acf, plot_pacf\n",
    "\n",
    "wb1 = openpyxl.load_workbook(r\"C:\\Users\\User\\Desktop\\Книга1.xlsx\")\n",
    "sheet = wb1['Лист4']\n",
    "sheet1 = wb1['Лист5']\n",
    "wb2 = openpyxl.load_workbook(r\"C:\\Users\\User\\Desktop\\11111111111111.xlsx\")\n",
    "sheet2 = wb2['Отчет']"
   ]
  },
  {
   "cell_type": "code",
   "execution_count": 2,
   "metadata": {},
   "outputs": [],
   "source": [
    "start = datetime.datetime.now()\n",
    "def df_test(frame_col):\n",
    "    print('Результат теста:')\n",
    "    df_result = adfuller(frame_col)\n",
    "    df_labels = ['ADF Test Statistic', 'p-value', '#Lags Used', 'Number of Observations Used']\n",
    "    for result_value, label in zip(df_result, df_labels):\n",
    "        print(label + ' : ' + str(result_value))\n",
    "\n",
    "    if df_result[1] <= 0.05:\n",
    "        print(\"Сильные доказательства против нулевой гипотезы, ряд является стационарным.\")\n",
    "    else:\n",
    "        print(\"Слабые доказательства против нулевой гипотезы, ряд не является стационарным.\")"
   ]
  },
  {
   "cell_type": "code",
   "execution_count": 3,
   "metadata": {},
   "outputs": [],
   "source": [
    "def search_optimal_sarima(time_series, seasonal_cycle):\n",
    "    order_vals = diff_vals = ma_vals = range(0, 2)\n",
    "    pdq_combinations = list(itertools.product(order_vals, diff_vals, ma_vals))\n",
    "    seasonal_combinations = [(combo[0], combo[1], combo[2], seasonal_cycle) for combo in pdq_combinations]\n",
    "       \n",
    "    smallest_aic = float(\"inf\")\n",
    "    optimal_order_param = optimal_seasonal_param = None\n",
    "\n",
    "    for order_param in pdq_combinations:\n",
    "        for seasonal_param in seasonal_combinations:\n",
    "            try:\n",
    "                sarima_model = SARIMAX(time_series,\n",
    "                                                         order=order_param,\n",
    "                                                         seasonal_order=seasonal_param,\n",
    "                                                         enforce_stationarity=False,\n",
    "                                                         enforce_invertibility=False)\n",
    "\n",
    "                model_results = sarima_model.fit()\n",
    "                if model_results.aic < smallest_aic:\n",
    "                    smallest_aic = model_results.aic\n",
    "                    optimal_order_param = order_param\n",
    "                    optimal_seasonal_param = seasonal_param\n",
    "            except:\n",
    "                continue\n",
    "\n",
    "    print('ARIMA{}x{} - AIC:{}'.format(optimal_order_param, optimal_seasonal_param, smallest_aic))"
   ]
  },
  {
   "cell_type": "code",
   "execution_count": 32,
   "metadata": {},
   "outputs": [
    {
     "data": {
      "image/png": "[encoded data removed]",
      "text/plain": [
       "<Figure size 432x288 with 1 Axes>"
      ]
     },
     "metadata": {
      "needs_background": "light"
     },
     "output_type": "display_data"
    }
   ],
   "source": [
    "batch1 = []\n",
    "batch2 = []\n",
    "batch3 = []\n",
    "timer = []\n",
    "n = 18\n",
    "num = 734\n",
    "for i in range (1, num-n):\n",
    "    timer.append(sheet2.cell(row = i+n, column = 1).value)\n",
    "    batch1.append(float(sheet2.cell(row = i+n, column = 2).value))\n",
    "    batch2.append(sheet.cell(row = i, column = 2).value)\n",
    "    batch3.append(sheet.cell(row = i, column = 3).value)\n",
    "plt.plot(batch1)\n",
    "plt.show()\n",
    "#plt.plot(batch2)\n",
    "#plt.show()\n",
    "#plt.plot(batch3)\n",
    "#plt.show()\n",
    "    "
   ]
  },
  {
   "cell_type": "code",
   "execution_count": 22,
   "metadata": {},
   "outputs": [],
   "source": [
    "def modelling(df1, df2, df3):\n",
    "    df1t = df1[100:][\"flow1\"]\n",
    "    model1 = SARIMAX(df1t, order=(5, 1, 0), seasonal_order=(1, 1, 1, 12))\n",
    "    #model2 = SARIMAX(df2, order=(5, 1, 0), seasonal_order=(1, 1, 1, 12))\n",
    "    #model3 = SARIMAX(df3, order=(5, 1, 0), seasonal_order=(1, 1, 1, 12))\n",
    "\n",
    "    result1 = model1.fit()\n",
    "    #result2 = model2.fit()\n",
    "    #result3 = model3.fit()\n",
    "\n",
    "    prog_start = 0\n",
    "\n",
    "    pred1 = result1.get_prediction(start = prog_start, dynamic = False)\n",
    "    forecast_values1 = pred1.predicted_mean\n",
    "    #pred2 = result2.get_prediction(start = prog_start, dynamic = False)\n",
    "    #forecast_values2 = pred2.predicted_mean\n",
    "    #pred3 = result3.get_prediction(start = prog_start, dynamic = False)\n",
    "    #forecast_values3 = pred3.predicted_mean\n",
    "\n",
    "    #print(result1.summary())\n",
    "    #print(result2.summary())\n",
    "    #print(result3.summary())\n",
    "\n",
    "    act_values1 = df1[prog_start:][\"flow1\"]\n",
    "    #act_values2 = df2[prog_start:][\"flow2\"]\n",
    "    #act_values3 = df3[prog_start:][\"flow_air\"]\n",
    "\n",
    "    forecast_mse1 = ((forecast_values1 - act_values1) ** 2).mean()\n",
    "    \n",
    "    pylab.subplot(1,2,2)\n",
    "    pylab.plot(act_values1, label = \"истинные значения\")\n",
    "    pylab.plot(forecast_values1, label = \"прогноз\")\n",
    "    pylab.set_title('График значений ')\n",
    "    pylab.legend()\n",
    "    #forecast_mse2 = ((forecast_values2 - act_values2) ** 2).mean()\n",
    "    #forecast_mse3 = ((forecast_values3 - act_values3) ** 2).mean()"
   ]
  },
  {
   "cell_type": "code",
   "execution_count": 33,
   "metadata": {},
   "outputs": [],
   "source": [
    "def fail_checker(df1):\n",
    "    \n",
    "    res_svm_t1 = []\n",
    "    #res_svm_t2 = []\n",
    "    #res_svm_t3 = []\n",
    "    for i in range (1, num-n):\n",
    "        res_svm_t1.append(sheet1.cell(row = i, column = 1).value)\n",
    "        #res_svm_t2.append(sheet1.cell(row = i, column = 2).value)\n",
    "        #res_svm_t3.append(sheet1.cell(row = i, column = 3).value)\n",
    "\n",
    "\n",
    "    model_svm_1 = svm.SVC(kernel = 'linear')\n",
    "    \n",
    "    model_svm_1.fit(df1, df1)\n",
    "    pred1 = model_svm_1.predict(df1)\n",
    "    accuracy = model_svm_1.score(df1, res_svm_t1)\n",
    "    \n",
    "    if (accuracy > 0.95):\n",
    "        print(\"warning!. Breakdown detected\")\n",
    "        sheet.cell(row = 1, column = 4).value = 1\n",
    "        wb1.save(r\"C:\\Users\\User\\Desktop\\Книга1.xlsx\")\n",
    "    \n",
    "    \n",
    "    "
   ]
  },
  {
   "cell_type": "code",
   "execution_count": 34,
   "metadata": {},
   "outputs": [
    {
     "name": "stderr",
     "output_type": "stream",
     "text": [
      "C:\\WPy64-3720\\python-3.7.2.amd64\\lib\\site-packages\\statsmodels\\base\\model.py:508: ConvergenceWarning: Maximum Likelihood optimization failed to converge. Check mle_retvals\n",
      "  \"Check mle_retvals\", ConvergenceWarning)\n"
     ]
    },
    {
     "data": {
      "image/png": "[encoded data removed]",
      "text/plain": [
       "<Figure size 432x288 with 1 Axes>"
      ]
     },
     "metadata": {
      "needs_background": "light"
     },
     "output_type": "display_data"
    },
    {
     "name": "stderr",
     "output_type": "stream",
     "text": [
      "C:\\WPy64-3720\\python-3.7.2.amd64\\lib\\site-packages\\sklearn\\utils\\validation.py:761: DataConversionWarning: A column-vector y was passed when a 1d array was expected. Please change the shape of y to (n_samples, ), for example using ravel().\n",
      "  y = column_or_1d(y, warn=True)\n"
     ]
    },
    {
     "ename": "ValueError",
     "evalue": "Unknown label type: 'continuous'",
     "output_type": "error",
     "traceback": [
      "\u001b[1;31m---------------------------------------------------------------------------\u001b[0m",
      "\u001b[1;31mValueError\u001b[0m                                Traceback (most recent call last)",
      "\u001b[1;32m<ipython-input-34-52553182221c>\u001b[0m in \u001b[0;36m<module>\u001b[1;34m\u001b[0m\n\u001b[0;32m      7\u001b[0m \u001b[1;33m\u001b[0m\u001b[0m\n\u001b[0;32m      8\u001b[0m \u001b[0mmodelling\u001b[0m\u001b[1;33m(\u001b[0m\u001b[0mdf1\u001b[0m\u001b[1;33m,\u001b[0m \u001b[0mdf2\u001b[0m\u001b[1;33m,\u001b[0m \u001b[0mdf3\u001b[0m\u001b[1;33m)\u001b[0m\u001b[1;33m\u001b[0m\u001b[1;33m\u001b[0m\u001b[0m\n\u001b[1;32m----> 9\u001b[1;33m \u001b[0mfail_checker\u001b[0m\u001b[1;33m(\u001b[0m\u001b[0mdf1\u001b[0m\u001b[1;33m)\u001b[0m\u001b[1;33m\u001b[0m\u001b[1;33m\u001b[0m\u001b[0m\n\u001b[0m\u001b[0;32m     10\u001b[0m \u001b[1;31m#fail_checker(df2)\u001b[0m\u001b[1;33m\u001b[0m\u001b[1;33m\u001b[0m\u001b[1;33m\u001b[0m\u001b[0m\n\u001b[0;32m     11\u001b[0m \u001b[1;31m#fail_checker(df3)\u001b[0m\u001b[1;33m\u001b[0m\u001b[1;33m\u001b[0m\u001b[1;33m\u001b[0m\u001b[0m\n",
      "\u001b[1;32m<ipython-input-33-52afccac0dfa>\u001b[0m in \u001b[0;36mfail_checker\u001b[1;34m(df1)\u001b[0m\n\u001b[0;32m     12\u001b[0m     \u001b[0mmodel_svm_1\u001b[0m \u001b[1;33m=\u001b[0m \u001b[0msvm\u001b[0m\u001b[1;33m.\u001b[0m\u001b[0mSVC\u001b[0m\u001b[1;33m(\u001b[0m\u001b[0mkernel\u001b[0m \u001b[1;33m=\u001b[0m \u001b[1;34m'linear'\u001b[0m\u001b[1;33m)\u001b[0m\u001b[1;33m\u001b[0m\u001b[1;33m\u001b[0m\u001b[0m\n\u001b[0;32m     13\u001b[0m \u001b[1;33m\u001b[0m\u001b[0m\n\u001b[1;32m---> 14\u001b[1;33m     \u001b[0mmodel_svm_1\u001b[0m\u001b[1;33m.\u001b[0m\u001b[0mfit\u001b[0m\u001b[1;33m(\u001b[0m\u001b[0mdf1\u001b[0m\u001b[1;33m,\u001b[0m \u001b[0mdf1\u001b[0m\u001b[1;33m)\u001b[0m\u001b[1;33m\u001b[0m\u001b[1;33m\u001b[0m\u001b[0m\n\u001b[0m\u001b[0;32m     15\u001b[0m     \u001b[0mpred1\u001b[0m \u001b[1;33m=\u001b[0m \u001b[0mmodel_svm_1\u001b[0m\u001b[1;33m.\u001b[0m\u001b[0mpredict\u001b[0m\u001b[1;33m(\u001b[0m\u001b[0mdf1\u001b[0m\u001b[1;33m)\u001b[0m\u001b[1;33m\u001b[0m\u001b[1;33m\u001b[0m\u001b[0m\n\u001b[0;32m     16\u001b[0m     \u001b[0maccuracy\u001b[0m \u001b[1;33m=\u001b[0m \u001b[0mmodel_svm_1\u001b[0m\u001b[1;33m.\u001b[0m\u001b[0mscore\u001b[0m\u001b[1;33m(\u001b[0m\u001b[0mdf1\u001b[0m\u001b[1;33m,\u001b[0m \u001b[0mres_svm_t1\u001b[0m\u001b[1;33m)\u001b[0m\u001b[1;33m\u001b[0m\u001b[1;33m\u001b[0m\u001b[0m\n",
      "\u001b[1;32mC:\\WPy64-3720\\python-3.7.2.amd64\\lib\\site-packages\\sklearn\\svm\\base.py\u001b[0m in \u001b[0;36mfit\u001b[1;34m(self, X, y, sample_weight)\u001b[0m\n\u001b[0;32m    148\u001b[0m                          \u001b[0morder\u001b[0m\u001b[1;33m=\u001b[0m\u001b[1;34m'C'\u001b[0m\u001b[1;33m,\u001b[0m \u001b[0maccept_sparse\u001b[0m\u001b[1;33m=\u001b[0m\u001b[1;34m'csr'\u001b[0m\u001b[1;33m,\u001b[0m\u001b[1;33m\u001b[0m\u001b[1;33m\u001b[0m\u001b[0m\n\u001b[0;32m    149\u001b[0m                          accept_large_sparse=False)\n\u001b[1;32m--> 150\u001b[1;33m         \u001b[0my\u001b[0m \u001b[1;33m=\u001b[0m \u001b[0mself\u001b[0m\u001b[1;33m.\u001b[0m\u001b[0m_validate_targets\u001b[0m\u001b[1;33m(\u001b[0m\u001b[0my\u001b[0m\u001b[1;33m)\u001b[0m\u001b[1;33m\u001b[0m\u001b[1;33m\u001b[0m\u001b[0m\n\u001b[0m\u001b[0;32m    151\u001b[0m \u001b[1;33m\u001b[0m\u001b[0m\n\u001b[0;32m    152\u001b[0m         sample_weight = np.asarray([]\n",
      "\u001b[1;32mC:\\WPy64-3720\\python-3.7.2.amd64\\lib\\site-packages\\sklearn\\svm\\base.py\u001b[0m in \u001b[0;36m_validate_targets\u001b[1;34m(self, y)\u001b[0m\n\u001b[0;32m    517\u001b[0m     \u001b[1;32mdef\u001b[0m \u001b[0m_validate_targets\u001b[0m\u001b[1;33m(\u001b[0m\u001b[0mself\u001b[0m\u001b[1;33m,\u001b[0m \u001b[0my\u001b[0m\u001b[1;33m)\u001b[0m\u001b[1;33m:\u001b[0m\u001b[1;33m\u001b[0m\u001b[1;33m\u001b[0m\u001b[0m\n\u001b[0;32m    518\u001b[0m         \u001b[0my_\u001b[0m \u001b[1;33m=\u001b[0m \u001b[0mcolumn_or_1d\u001b[0m\u001b[1;33m(\u001b[0m\u001b[0my\u001b[0m\u001b[1;33m,\u001b[0m \u001b[0mwarn\u001b[0m\u001b[1;33m=\u001b[0m\u001b[1;32mTrue\u001b[0m\u001b[1;33m)\u001b[0m\u001b[1;33m\u001b[0m\u001b[1;33m\u001b[0m\u001b[0m\n\u001b[1;32m--> 519\u001b[1;33m         \u001b[0mcheck_classification_targets\u001b[0m\u001b[1;33m(\u001b[0m\u001b[0my\u001b[0m\u001b[1;33m)\u001b[0m\u001b[1;33m\u001b[0m\u001b[1;33m\u001b[0m\u001b[0m\n\u001b[0m\u001b[0;32m    520\u001b[0m         \u001b[0mcls\u001b[0m\u001b[1;33m,\u001b[0m \u001b[0my\u001b[0m \u001b[1;33m=\u001b[0m \u001b[0mnp\u001b[0m\u001b[1;33m.\u001b[0m\u001b[0munique\u001b[0m\u001b[1;33m(\u001b[0m\u001b[0my_\u001b[0m\u001b[1;33m,\u001b[0m \u001b[0mreturn_inverse\u001b[0m\u001b[1;33m=\u001b[0m\u001b[1;32mTrue\u001b[0m\u001b[1;33m)\u001b[0m\u001b[1;33m\u001b[0m\u001b[1;33m\u001b[0m\u001b[0m\n\u001b[0;32m    521\u001b[0m         \u001b[0mself\u001b[0m\u001b[1;33m.\u001b[0m\u001b[0mclass_weight_\u001b[0m \u001b[1;33m=\u001b[0m \u001b[0mcompute_class_weight\u001b[0m\u001b[1;33m(\u001b[0m\u001b[0mself\u001b[0m\u001b[1;33m.\u001b[0m\u001b[0mclass_weight\u001b[0m\u001b[1;33m,\u001b[0m \u001b[0mcls\u001b[0m\u001b[1;33m,\u001b[0m \u001b[0my_\u001b[0m\u001b[1;33m)\u001b[0m\u001b[1;33m\u001b[0m\u001b[1;33m\u001b[0m\u001b[0m\n",
      "\u001b[1;32mC:\\WPy64-3720\\python-3.7.2.amd64\\lib\\site-packages\\sklearn\\utils\\multiclass.py\u001b[0m in \u001b[0;36mcheck_classification_targets\u001b[1;34m(y)\u001b[0m\n\u001b[0;32m    169\u001b[0m     if y_type not in ['binary', 'multiclass', 'multiclass-multioutput',\n\u001b[0;32m    170\u001b[0m                       'multilabel-indicator', 'multilabel-sequences']:\n\u001b[1;32m--> 171\u001b[1;33m         \u001b[1;32mraise\u001b[0m \u001b[0mValueError\u001b[0m\u001b[1;33m(\u001b[0m\u001b[1;34m\"Unknown label type: %r\"\u001b[0m \u001b[1;33m%\u001b[0m \u001b[0my_type\u001b[0m\u001b[1;33m)\u001b[0m\u001b[1;33m\u001b[0m\u001b[1;33m\u001b[0m\u001b[0m\n\u001b[0m\u001b[0;32m    172\u001b[0m \u001b[1;33m\u001b[0m\u001b[0m\n\u001b[0;32m    173\u001b[0m \u001b[1;33m\u001b[0m\u001b[0m\n",
      "\u001b[1;31mValueError\u001b[0m: Unknown label type: 'continuous'"
     ]
    }
   ],
   "source": [
    "df1 =  pd.DataFrame(columns = [\"flow1\"])\n",
    "df1.flow1 = batch1\n",
    "df2 =  pd.DataFrame(columns = [\"flow2\"])\n",
    "df2.flow2 = batch2\n",
    "df3 =  pd.DataFrame(columns = [\"flow_air\"])\n",
    "df3.flow_air = batch3\n",
    "\n",
    "modelling(df1, df2, df3)\n",
    "fail_checker(df1)\n",
    "#fail_checker(df2)\n",
    "#fail_checker(df3)"
   ]
  },
  {
   "cell_type": "code",
   "execution_count": null,
   "metadata": {},
   "outputs": [],
   "source": [
    "finish = datetime.datetime.now()\n",
    "print('Время окончания: ' + str(finish))\n",
    "\n",
    "# вычитаем время старта из времени окончания\n",
    "print('Время работы: ' + str(finish - start))"
   ]
  },
  {
   "cell_type": "code",
   "execution_count": null,
   "metadata": {},
   "outputs": [],
   "source": []
  }
 ],
 "metadata": {
  "kernelspec": {
   "display_name": "Python 3",
   "language": "python",
   "name": "python3"
  },
  "language_info": {
   "codemirror_mode": {
    "name": "ipython",
    "version": 3
   },
   "file_extension": ".py",
   "mimetype": "text/x-python",
   "name": "python",
   "nbconvert_exporter": "python",
   "pygments_lexer": "ipython3",
   "version": "3.7.2"
  }
 },
 "nbformat": 4,
 "nbformat_minor": 2
}
