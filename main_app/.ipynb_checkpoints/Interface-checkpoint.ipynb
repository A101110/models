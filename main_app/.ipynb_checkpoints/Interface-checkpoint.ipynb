{
 "cells": [
  {
   "cell_type": "code",
   "execution_count": 13,
   "metadata": {},
   "outputs": [],
   "source": [
    "from flask import Flask, request, render_template"
   ]
  },
  {
   "cell_type": "code",
   "execution_count": null,
   "metadata": {},
   "outputs": [
    {
     "name": "stdout",
     "output_type": "stream",
     "text": [
      " * Serving Flask app \"__main__\" (lazy loading)\n",
      " * Environment: production\n",
      "   WARNING: Do not use the development server in a production environment.\n",
      "   Use a production WSGI server instead.\n",
      " * Debug mode: off\n"
     ]
    },
    {
     "name": "stderr",
     "output_type": "stream",
     "text": [
      " * Running on http://127.0.0.1:5000/ (Press CTRL+C to quit)\n",
      "127.0.0.1 - - [04/Nov/2023 18:36:17] \"\u001b[33mGET / HTTP/1.1\u001b[0m\" 404 -\n",
      "127.0.0.1 - - [04/Nov/2023 18:36:17] \"\u001b[33mGET /favicon.ico HTTP/1.1\u001b[0m\" 404 -\n",
      "[2023-11-04 18:36:25,127] ERROR in app: Exception on /login [GET]\n",
      "Traceback (most recent call last):\n",
      "  File \"C:\\WPy64-3720\\python-3.7.2.amd64\\lib\\site-packages\\flask\\app.py\", line 2292, in wsgi_app\n",
      "    response = self.full_dispatch_request()\n",
      "  File \"C:\\WPy64-3720\\python-3.7.2.amd64\\lib\\site-packages\\flask\\app.py\", line 1815, in full_dispatch_request\n",
      "    rv = self.handle_user_exception(e)\n",
      "  File \"C:\\WPy64-3720\\python-3.7.2.amd64\\lib\\site-packages\\flask\\app.py\", line 1718, in handle_user_exception\n",
      "    reraise(exc_type, exc_value, tb)\n",
      "  File \"C:\\WPy64-3720\\python-3.7.2.amd64\\lib\\site-packages\\flask\\_compat.py\", line 35, in reraise\n",
      "    raise value\n",
      "  File \"C:\\WPy64-3720\\python-3.7.2.amd64\\lib\\site-packages\\flask\\app.py\", line 1813, in full_dispatch_request\n",
      "    rv = self.dispatch_request()\n",
      "  File \"C:\\WPy64-3720\\python-3.7.2.amd64\\lib\\site-packages\\flask\\app.py\", line 1799, in dispatch_request\n",
      "    return self.view_functions[rule.endpoint](**req.view_args)\n",
      "  File \"<ipython-input-14-bb54e1f1010c>\", line 11, in login\n",
      "    return render_template('login.html')\n",
      "  File \"C:\\WPy64-3720\\python-3.7.2.amd64\\lib\\site-packages\\flask\\templating.py\", line 135, in render_template\n",
      "    context, ctx.app)\n",
      "  File \"C:\\WPy64-3720\\python-3.7.2.amd64\\lib\\site-packages\\flask\\templating.py\", line 117, in _render\n",
      "    rv = template.render(context)\n",
      "  File \"C:\\WPy64-3720\\python-3.7.2.amd64\\lib\\site-packages\\jinja2\\asyncsupport.py\", line 76, in render\n",
      "    return original_render(self, *args, **kwargs)\n",
      "  File \"C:\\WPy64-3720\\python-3.7.2.amd64\\lib\\site-packages\\jinja2\\environment.py\", line 1008, in render\n",
      "    return self.environment.handle_exception(exc_info, True)\n",
      "  File \"C:\\WPy64-3720\\python-3.7.2.amd64\\lib\\site-packages\\jinja2\\environment.py\", line 780, in handle_exception\n",
      "    reraise(exc_type, exc_value, tb)\n",
      "  File \"C:\\WPy64-3720\\python-3.7.2.amd64\\lib\\site-packages\\jinja2\\_compat.py\", line 37, in reraise\n",
      "    raise value.with_traceback(tb)\n",
      "  File \"C:\\WPy64-3720\\notebooks\\main_app\\templates\\login.html\", line 1, in top-level template code\n",
      "    {% extends 'base.html' %}\n",
      "  File \"C:\\WPy64-3720\\python-3.7.2.amd64\\lib\\site-packages\\flask\\templating.py\", line 58, in get_source\n",
      "    return self._get_source_fast(environment, template)\n",
      "  File \"C:\\WPy64-3720\\python-3.7.2.amd64\\lib\\site-packages\\flask\\templating.py\", line 86, in _get_source_fast\n",
      "    raise TemplateNotFound(template)\n",
      "jinja2.exceptions.TemplateNotFound: base.html\n",
      "127.0.0.1 - - [04/Nov/2023 18:36:25] \"\u001b[1m\u001b[35mGET /login HTTP/1.1\u001b[0m\" 500 -\n"
     ]
    }
   ],
   "source": [
    "app = Flask(__name__)\n",
    "\n",
    "@app.route('/', methods=['GET', 'POST'])\n",
    "def login():\n",
    "    if request.method == 'POST':\n",
    "        username = request.form['username']\n",
    "        password = request.form['password']\n",
    "        # проверка логина и пароля\n",
    "        return 'Вы вошли в систему!'\n",
    "    else:\n",
    "        return render_template('login.html')\n",
    "\n",
    "if __name__ == '__main__':\n",
    "    app.run()\n",
    "@app.route('/screen')\n",
    "def screen():\n",
    "    return 'screen'\n",
    "\n",
    "@app.route('/gas')\n",
    "def gas():\n",
    "    return 'gas'\n",
    "\n",
    "@app.route('/water')\n",
    "def water():\n",
    "    return 'water'\n",
    "\n",
    "\n",
    "@app.route('/oil')\n",
    "def oil():\n",
    "    return 'oil'\n",
    "\n",
    "\n",
    "@app.route('/air')\n",
    "def air():\n",
    "    return 'air'\n",
    "\n",
    "@app.route('/drg')\n",
    "def drg():\n",
    "    return 'drg'\n",
    "\n",
    "@app.route('/rvp')\n",
    "def rvp():\n",
    "    return 'rvp'\n",
    "\n",
    "@app.route('/errors')\n",
    "def errors():\n",
    "    return 'errors'\n",
    "\n",
    "@app.route('/warns')\n",
    "def warns():\n",
    "    return 'warns'\n",
    "\n",
    "@app.route('/model')\n",
    "def model():\n",
    "    return 'model'\n",
    "\n",
    "\n",
    "\n",
    "\n",
    "\n",
    "\n",
    "\n",
    "\n",
    "\n",
    "if __name__ == '__main__':\n",
    "    app.run(port = 8000)"
   ]
  },
  {
   "cell_type": "code",
   "execution_count": null,
   "metadata": {},
   "outputs": [],
   "source": []
  },
  {
   "cell_type": "code",
   "execution_count": null,
   "metadata": {},
   "outputs": [],
   "source": []
  }
 ],
 "metadata": {
  "kernelspec": {
   "display_name": "Python 3",
   "language": "python",
   "name": "python3"
  },
  "language_info": {
   "codemirror_mode": {
    "name": "ipython",
    "version": 3
   },
   "file_extension": ".py",
   "mimetype": "text/x-python",
   "name": "python",
   "nbconvert_exporter": "python",
   "pygments_lexer": "ipython3",
   "version": "3.7.2"
  }
 },
 "nbformat": 4,
 "nbformat_minor": 2
}
