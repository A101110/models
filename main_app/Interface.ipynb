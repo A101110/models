{
 "cells": [
  {
   "cell_type": "code",
   "execution_count": 1,
   "metadata": {},
   "outputs": [],
   "source": [
    "from flask import Flask, request, render_template"
   ]
  },
  {
   "cell_type": "code",
   "execution_count": null,
   "metadata": {},
   "outputs": [
    {
     "name": "stdout",
     "output_type": "stream",
     "text": [
      " * Serving Flask app \"__main__\" (lazy loading)\n",
      " * Environment: production\n",
      "   WARNING: Do not use the development server in a production environment.\n",
      "   Use a production WSGI server instead.\n",
      " * Debug mode: off\n"
     ]
    },
    {
     "name": "stderr",
     "output_type": "stream",
     "text": [
      " * Running on http://127.0.0.1:8000/ (Press CTRL+C to quit)\n",
      "127.0.0.1 - - [21/Nov/2023 17:15:53] \"\u001b[37mGET / HTTP/1.1\u001b[0m\" 200 -\n",
      "127.0.0.1 - - [21/Nov/2023 17:15:53] \"\u001b[33mGET /favicon.ico HTTP/1.1\u001b[0m\" 404 -\n"
     ]
    }
   ],
   "source": [
    "app = Flask(__name__)\n",
    "\n",
    "@app.route('/')\n",
    "@app.route('/templates')\n",
    "\n",
    "def login():\n",
    "    if request.method == 'POST':\n",
    "        username = request.form['username']\n",
    "        password = request.form['password']\n",
    "        # проверка логина и пароля\n",
    "        return 'Вы вошли в систему!'\n",
    "    else:\n",
    "        return render_template('login.html', message = 'hello')\n",
    "\n",
    "@app.route('/screen')\n",
    "def screen():\n",
    "    return 'screen'\n",
    "\n",
    "@app.route('/gas')\n",
    "def gas():\n",
    "    return 'gas'\n",
    "\n",
    "@app.route('/water')\n",
    "def water():\n",
    "    return 'water'\n",
    "\n",
    "\n",
    "@app.route('/oil')\n",
    "def oil():\n",
    "    return 'oil'\n",
    "\n",
    "\n",
    "@app.route('/air')\n",
    "def air():\n",
    "    return 'air'\n",
    "\n",
    "@app.route('/drg')\n",
    "def drg():\n",
    "    return 'drg'\n",
    "\n",
    "@app.route('/rvp')\n",
    "def rvp():\n",
    "    return 'rvp'\n",
    "\n",
    "@app.route('/errors')\n",
    "def errors():\n",
    "    return 'errors'\n",
    "\n",
    "@app.route('/warns')\n",
    "def warns():\n",
    "    return 'warns'\n",
    "\n",
    "@app.route('/model')\n",
    "def model():\n",
    "    return 'model'\n",
    "\n",
    "\n",
    "\n",
    "\n",
    "\n",
    "\n",
    "\n",
    "\n",
    "\n",
    "if __name__ == '__main__':\n",
    "    app.run(port = 8000)"
   ]
  },
  {
   "cell_type": "code",
   "execution_count": null,
   "metadata": {},
   "outputs": [],
   "source": []
  }
 ],
 "metadata": {
  "kernelspec": {
   "display_name": "Python 3",
   "language": "python",
   "name": "python3"
  },
  "language_info": {
   "codemirror_mode": {
    "name": "ipython",
    "version": 3
   },
   "file_extension": ".py",
   "mimetype": "text/x-python",
   "name": "python",
   "nbconvert_exporter": "python",
   "pygments_lexer": "ipython3",
   "version": "3.7.2"
  }
 },
 "nbformat": 4,
 "nbformat_minor": 2
}
