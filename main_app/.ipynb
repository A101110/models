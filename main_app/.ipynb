{
 "cells": [
  {
   "cell_type": "code",
   "execution_count": 10,
   "metadata": {},
   "outputs": [],
   "source": [
    "from flask import Flask"
   ]
  },
  {
   "cell_type": "code",
   "execution_count": null,
   "metadata": {},
   "outputs": [
    {
     "name": "stdout",
     "output_type": "stream",
     "text": [
      " * Serving Flask app \"__main__\" (lazy loading)\n",
      " * Environment: production\n",
      "   WARNING: Do not use the development server in a production environment.\n",
      "   Use a production WSGI server instead.\n",
      " * Debug mode: off\n"
     ]
    },
    {
     "name": "stderr",
     "output_type": "stream",
     "text": [
      " * Running on http://127.0.0.1:8000/ (Press CTRL+C to quit)\n",
      "[2023-11-04 18:21:32,528] ERROR in app: Exception on / [GET]\n",
      "Traceback (most recent call last):\n",
      "  File \"C:\\WPy64-3720\\python-3.7.2.amd64\\lib\\site-packages\\flask\\app.py\", line 2292, in wsgi_app\n",
      "    response = self.full_dispatch_request()\n",
      "  File \"C:\\WPy64-3720\\python-3.7.2.amd64\\lib\\site-packages\\flask\\app.py\", line 1815, in full_dispatch_request\n",
      "    rv = self.handle_user_exception(e)\n",
      "  File \"C:\\WPy64-3720\\python-3.7.2.amd64\\lib\\site-packages\\flask\\app.py\", line 1718, in handle_user_exception\n",
      "    reraise(exc_type, exc_value, tb)\n",
      "  File \"C:\\WPy64-3720\\python-3.7.2.amd64\\lib\\site-packages\\flask\\_compat.py\", line 35, in reraise\n",
      "    raise value\n",
      "  File \"C:\\WPy64-3720\\python-3.7.2.amd64\\lib\\site-packages\\flask\\app.py\", line 1813, in full_dispatch_request\n",
      "    rv = self.dispatch_request()\n",
      "  File \"C:\\WPy64-3720\\python-3.7.2.amd64\\lib\\site-packages\\flask\\app.py\", line 1799, in dispatch_request\n",
      "    return self.view_functions[rule.endpoint](**req.view_args)\n",
      "  File \"<ipython-input-13-d5586b79dda7>\", line 5, in start\n",
      "    if (request.method =='POST'):\n",
      "NameError: name 'request' is not defined\n",
      "127.0.0.1 - - [04/Nov/2023 18:21:32] \"\u001b[1m\u001b[35mGET / HTTP/1.1\u001b[0m\" 500 -\n"
     ]
    }
   ],
   "source": [
    "app = Flask(__name__)\n",
    "\n",
    "@app.route('/', methods = ['GET', 'POST'])\n",
    "def start():\n",
    "    if (request.method =='POST'):\n",
    "        role = request.form[role]\n",
    "        username = request.form[username]\n",
    "        password = request.form[password]\n",
    "        return 'Вход успешен'\n",
    "    else: return render_template(login.html)\n",
    "\n",
    "@app.route('/screen')\n",
    "def screen():\n",
    "    return 'screen'\n",
    "\n",
    "@app.route('/gas')\n",
    "def gas():\n",
    "    return 'gas'\n",
    "\n",
    "@app.route('/water')\n",
    "def water():\n",
    "    return 'water'\n",
    "\n",
    "\n",
    "@app.route('/oil')\n",
    "def oil():\n",
    "    return 'oil'\n",
    "\n",
    "\n",
    "@app.route('/air')\n",
    "def air():\n",
    "    return 'air'\n",
    "\n",
    "@app.route('/drg')\n",
    "def drg():\n",
    "    return 'drg'\n",
    "\n",
    "@app.route('/rvp')\n",
    "def rvp():\n",
    "    return 'rvp'\n",
    "\n",
    "@app.route('/errors')\n",
    "def errors():\n",
    "    return 'rvp'\n",
    "\n",
    "@app.route('/warns')\n",
    "def warns():\n",
    "    return 'warns'\n",
    "\n",
    "@app.route('/model')\n",
    "def model():\n",
    "    return 'model'\n",
    "\n",
    "\n",
    "if __name__ == '__main__':\n",
    "    app.run(port = 8000)"
   ]
  },
  {
   "cell_type": "code",
   "execution_count": null,
   "metadata": {},
   "outputs": [],
   "source": []
  },
  {
   "cell_type": "code",
   "execution_count": null,
   "metadata": {},
   "outputs": [],
   "source": []
  }
 ],
 "metadata": {
  "kernelspec": {
   "display_name": "Python 3",
   "language": "python",
   "name": "python3"
  },
  "language_info": {
   "codemirror_mode": {
    "name": "ipython",
    "version": 3
   },
   "file_extension": ".py",
   "mimetype": "text/x-python",
   "name": "python",
   "nbconvert_exporter": "python",
   "pygments_lexer": "ipython3",
   "version": "3.7.2"
  }
 },
 "nbformat": 4,
 "nbformat_minor": 2
}
